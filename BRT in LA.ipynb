{
 "cells": [
  {
   "cell_type": "code",
   "execution_count": 2,
   "metadata": {},
   "outputs": [],
   "source": [
    "import geopandas as gpd"
   ]
  },
  {
   "cell_type": "code",
   "execution_count": 3,
   "metadata": {},
   "outputs": [],
   "source": [
    "brt = gpd.read_file('Data/RapidBRT/RapidBRT1219.shp')"
   ]
  },
  {
   "cell_type": "code",
   "execution_count": 8,
   "metadata": {},
   "outputs": [
    {
     "data": {
      "text/html": [
       "<div>\n",
       "<style scoped>\n",
       "    .dataframe tbody tr th:only-of-type {\n",
       "        vertical-align: middle;\n",
       "    }\n",
       "\n",
       "    .dataframe tbody tr th {\n",
       "        vertical-align: top;\n",
       "    }\n",
       "\n",
       "    .dataframe thead th {\n",
       "        text-align: right;\n",
       "    }\n",
       "</style>\n",
       "<table border=\"1\" class=\"dataframe\">\n",
       "  <thead>\n",
       "    <tr style=\"text-align: right;\">\n",
       "      <th></th>\n",
       "      <th>VAR_ROUTE</th>\n",
       "      <th>VAR_IDENT</th>\n",
       "      <th>VAR_DIREC</th>\n",
       "      <th>VAR_DESCR</th>\n",
       "      <th>geometry</th>\n",
       "    </tr>\n",
       "  </thead>\n",
       "  <tbody>\n",
       "    <tr>\n",
       "      <th>0</th>\n",
       "      <td>704</td>\n",
       "      <td>E1</td>\n",
       "      <td>2</td>\n",
       "      <td>END TO END - RAPID - TO DIV13O</td>\n",
       "      <td>LINESTRING (-118.49997 34.01574, -118.50054 34...</td>\n",
       "    </tr>\n",
       "    <tr>\n",
       "      <th>1</th>\n",
       "      <td>704</td>\n",
       "      <td>E3</td>\n",
       "      <td>2</td>\n",
       "      <td>NEBSEP Shortline</td>\n",
       "      <td>LINESTRING (-118.44327 34.04567, -118.44335 34...</td>\n",
       "    </tr>\n",
       "    <tr>\n",
       "      <th>2</th>\n",
       "      <td>704</td>\n",
       "      <td>E6</td>\n",
       "      <td>2</td>\n",
       "      <td>TRIPS START SEPSAN</td>\n",
       "      <td>LINESTRING (-118.44356 34.04791, -118.44354 34...</td>\n",
       "    </tr>\n",
       "    <tr>\n",
       "      <th>3</th>\n",
       "      <td>704</td>\n",
       "      <td>W1</td>\n",
       "      <td>3</td>\n",
       "      <td>END TO END- RAPID - FROM DIV13O</td>\n",
       "      <td>LINESTRING (-118.23190 34.05663, -118.23230 34...</td>\n",
       "    </tr>\n",
       "    <tr>\n",
       "      <th>4</th>\n",
       "      <td>704</td>\n",
       "      <td>W3</td>\n",
       "      <td>3</td>\n",
       "      <td>NEBSEP Shortline</td>\n",
       "      <td>LINESTRING (-118.38430 34.08485, -118.38471 34...</td>\n",
       "    </tr>\n",
       "  </tbody>\n",
       "</table>\n",
       "</div>"
      ],
      "text/plain": [
       "  VAR_ROUTE VAR_IDENT  VAR_DIREC                        VAR_DESCR  \\\n",
       "0       704        E1          2   END TO END - RAPID - TO DIV13O   \n",
       "1       704        E3          2                 NEBSEP Shortline   \n",
       "2       704        E6          2               TRIPS START SEPSAN   \n",
       "3       704        W1          3  END TO END- RAPID - FROM DIV13O   \n",
       "4       704        W3          3                 NEBSEP Shortline   \n",
       "\n",
       "                                            geometry  \n",
       "0  LINESTRING (-118.49997 34.01574, -118.50054 34...  \n",
       "1  LINESTRING (-118.44327 34.04567, -118.44335 34...  \n",
       "2  LINESTRING (-118.44356 34.04791, -118.44354 34...  \n",
       "3  LINESTRING (-118.23190 34.05663, -118.23230 34...  \n",
       "4  LINESTRING (-118.38430 34.08485, -118.38471 34...  "
      ]
     },
     "execution_count": 8,
     "metadata": {},
     "output_type": "execute_result"
    }
   ],
   "source": [
    "brt.head()"
   ]
  },
  {
   "cell_type": "code",
   "execution_count": 5,
   "metadata": {},
   "outputs": [
    {
     "data": {
      "text/html": [
       "<div>\n",
       "<style scoped>\n",
       "    .dataframe tbody tr th:only-of-type {\n",
       "        vertical-align: middle;\n",
       "    }\n",
       "\n",
       "    .dataframe tbody tr th {\n",
       "        vertical-align: top;\n",
       "    }\n",
       "\n",
       "    .dataframe thead th {\n",
       "        text-align: right;\n",
       "    }\n",
       "</style>\n",
       "<table border=\"1\" class=\"dataframe\">\n",
       "  <thead>\n",
       "    <tr style=\"text-align: right;\">\n",
       "      <th></th>\n",
       "      <th>VAR_ROUTE</th>\n",
       "      <th>VAR_IDENT</th>\n",
       "      <th>VAR_DIREC</th>\n",
       "      <th>VAR_DESCR</th>\n",
       "      <th>geometry</th>\n",
       "    </tr>\n",
       "  </thead>\n",
       "  <tbody>\n",
       "    <tr>\n",
       "      <th>0</th>\n",
       "      <td>704</td>\n",
       "      <td>E1</td>\n",
       "      <td>2</td>\n",
       "      <td>END TO END - RAPID - TO DIV13O</td>\n",
       "      <td>LINESTRING (-118.49997 34.01574, -118.50054 34...</td>\n",
       "    </tr>\n",
       "    <tr>\n",
       "      <th>1</th>\n",
       "      <td>704</td>\n",
       "      <td>E3</td>\n",
       "      <td>2</td>\n",
       "      <td>NEBSEP Shortline</td>\n",
       "      <td>LINESTRING (-118.44327 34.04567, -118.44335 34...</td>\n",
       "    </tr>\n",
       "  </tbody>\n",
       "</table>\n",
       "</div>"
      ],
      "text/plain": [
       "  VAR_ROUTE VAR_IDENT  VAR_DIREC                       VAR_DESCR  \\\n",
       "0       704        E1          2  END TO END - RAPID - TO DIV13O   \n",
       "1       704        E3          2                NEBSEP Shortline   \n",
       "\n",
       "                                            geometry  \n",
       "0  LINESTRING (-118.49997 34.01574, -118.50054 34...  \n",
       "1  LINESTRING (-118.44327 34.04567, -118.44335 34...  "
      ]
     },
     "execution_count": 5,
     "metadata": {},
     "output_type": "execute_result"
    }
   ],
   "source": [
    "brt.head(2)"
   ]
  },
  {
   "cell_type": "code",
   "execution_count": 6,
   "metadata": {},
   "outputs": [
    {
     "data": {
      "text/html": [
       "<div>\n",
       "<style scoped>\n",
       "    .dataframe tbody tr th:only-of-type {\n",
       "        vertical-align: middle;\n",
       "    }\n",
       "\n",
       "    .dataframe tbody tr th {\n",
       "        vertical-align: top;\n",
       "    }\n",
       "\n",
       "    .dataframe thead th {\n",
       "        text-align: right;\n",
       "    }\n",
       "</style>\n",
       "<table border=\"1\" class=\"dataframe\">\n",
       "  <thead>\n",
       "    <tr style=\"text-align: right;\">\n",
       "      <th></th>\n",
       "      <th>VAR_ROUTE</th>\n",
       "      <th>VAR_IDENT</th>\n",
       "      <th>VAR_DIREC</th>\n",
       "      <th>VAR_DESCR</th>\n",
       "      <th>geometry</th>\n",
       "    </tr>\n",
       "  </thead>\n",
       "  <tbody>\n",
       "    <tr>\n",
       "      <th>67</th>\n",
       "      <td>762</td>\n",
       "      <td>S1</td>\n",
       "      <td>1</td>\n",
       "      <td>CORWAL - ARTSTA</td>\n",
       "      <td>LINESTRING (-118.15224 34.15035, -118.15175 34...</td>\n",
       "    </tr>\n",
       "    <tr>\n",
       "      <th>68</th>\n",
       "      <td>762</td>\n",
       "      <td>N1</td>\n",
       "      <td>0</td>\n",
       "      <td>ARTSTA - CORWAL</td>\n",
       "      <td>LINESTRING (-118.22290 33.87596, -118.22297 33...</td>\n",
       "    </tr>\n",
       "    <tr>\n",
       "      <th>69</th>\n",
       "      <td>762</td>\n",
       "      <td>N1</td>\n",
       "      <td>0</td>\n",
       "      <td>ARTSTA - CORWAL</td>\n",
       "      <td>LINESTRING (-118.18312 33.95191, -118.18323 33...</td>\n",
       "    </tr>\n",
       "    <tr>\n",
       "      <th>70</th>\n",
       "      <td>770</td>\n",
       "      <td>E1</td>\n",
       "      <td>2</td>\n",
       "      <td>END TO END</td>\n",
       "      <td>LINESTRING (-118.26539 34.03415, -118.26552 34...</td>\n",
       "    </tr>\n",
       "    <tr>\n",
       "      <th>71</th>\n",
       "      <td>770</td>\n",
       "      <td>W1</td>\n",
       "      <td>3</td>\n",
       "      <td>END TO END</td>\n",
       "      <td>LINESTRING (-118.04511 34.07247, -118.04435 34...</td>\n",
       "    </tr>\n",
       "    <tr>\n",
       "      <th>72</th>\n",
       "      <td>770</td>\n",
       "      <td>W2</td>\n",
       "      <td>3</td>\n",
       "      <td>P/I fr BROVEN</td>\n",
       "      <td>LINESTRING (-118.23219 34.05671, -118.23318 34...</td>\n",
       "    </tr>\n",
       "    <tr>\n",
       "      <th>73</th>\n",
       "      <td>780</td>\n",
       "      <td>E1</td>\n",
       "      <td>2</td>\n",
       "      <td>END TO END</td>\n",
       "      <td>LINESTRING (-118.36908 34.03528, -118.36896 34...</td>\n",
       "    </tr>\n",
       "    <tr>\n",
       "      <th>74</th>\n",
       "      <td>780</td>\n",
       "      <td>E2</td>\n",
       "      <td>2</td>\n",
       "      <td>HOLARG to VERPRO</td>\n",
       "      <td>LINESTRING (-118.32536 34.10164, -118.32519 34...</td>\n",
       "    </tr>\n",
       "    <tr>\n",
       "      <th>75</th>\n",
       "      <td>780</td>\n",
       "      <td>W1</td>\n",
       "      <td>3</td>\n",
       "      <td>END TO END</td>\n",
       "      <td>LINESTRING (-118.12002 34.14598, -118.11985 34...</td>\n",
       "    </tr>\n",
       "    <tr>\n",
       "      <th>76</th>\n",
       "      <td>780</td>\n",
       "      <td>W2</td>\n",
       "      <td>3</td>\n",
       "      <td>VERPRO to HOLARG</td>\n",
       "      <td>LINESTRING (-118.29312 34.10178, -118.29332 34...</td>\n",
       "    </tr>\n",
       "    <tr>\n",
       "      <th>77</th>\n",
       "      <td>788</td>\n",
       "      <td>N1</td>\n",
       "      <td>0</td>\n",
       "      <td>END TO END</td>\n",
       "      <td>LINESTRING (-118.43460 34.03512, -118.43536 34...</td>\n",
       "    </tr>\n",
       "    <tr>\n",
       "      <th>78</th>\n",
       "      <td>788</td>\n",
       "      <td>S1</td>\n",
       "      <td>1</td>\n",
       "      <td>END TO END</td>\n",
       "      <td>LINESTRING (-118.44842 34.24689, -118.44966 34...</td>\n",
       "    </tr>\n",
       "    <tr>\n",
       "      <th>79</th>\n",
       "      <td>794</td>\n",
       "      <td>N1</td>\n",
       "      <td>0</td>\n",
       "      <td>END TO END</td>\n",
       "      <td>LINESTRING (-118.26461 34.03322, -118.26431 34...</td>\n",
       "    </tr>\n",
       "    <tr>\n",
       "      <th>80</th>\n",
       "      <td>794</td>\n",
       "      <td>S1</td>\n",
       "      <td>1</td>\n",
       "      <td>END TO END</td>\n",
       "      <td>LINESTRING (-118.45078 34.29346, -118.45078 34...</td>\n",
       "    </tr>\n",
       "    <tr>\n",
       "      <th>81</th>\n",
       "      <td>901</td>\n",
       "      <td>E1</td>\n",
       "      <td>2</td>\n",
       "      <td>END TO END</td>\n",
       "      <td>LINESTRING (-118.59927 34.25207, -118.59927 34...</td>\n",
       "    </tr>\n",
       "    <tr>\n",
       "      <th>82</th>\n",
       "      <td>901</td>\n",
       "      <td>E2</td>\n",
       "      <td>2</td>\n",
       "      <td>CANOGA STATION LAYOVER</td>\n",
       "      <td>LINESTRING (-118.59682 34.19051, -118.59747 34...</td>\n",
       "    </tr>\n",
       "    <tr>\n",
       "      <th>83</th>\n",
       "      <td>901</td>\n",
       "      <td>W1</td>\n",
       "      <td>3</td>\n",
       "      <td>END TO END</td>\n",
       "      <td>LINESTRING (-118.37799 34.16852, -118.37744 34...</td>\n",
       "    </tr>\n",
       "    <tr>\n",
       "      <th>84</th>\n",
       "      <td>901</td>\n",
       "      <td>W2</td>\n",
       "      <td>3</td>\n",
       "      <td>CANOGA STATION LAYOVER</td>\n",
       "      <td>LINESTRING (-118.57169 34.18742, -118.57207 34...</td>\n",
       "    </tr>\n",
       "    <tr>\n",
       "      <th>85</th>\n",
       "      <td>910</td>\n",
       "      <td>N1</td>\n",
       "      <td>0</td>\n",
       "      <td>END TO END</td>\n",
       "      <td>LINESTRING (-118.28798 33.72493, -118.28798 33...</td>\n",
       "    </tr>\n",
       "    <tr>\n",
       "      <th>86</th>\n",
       "      <td>910</td>\n",
       "      <td>S1</td>\n",
       "      <td>1</td>\n",
       "      <td>None</td>\n",
       "      <td>LINESTRING (-118.04513 34.07202, -118.04598 34...</td>\n",
       "    </tr>\n",
       "  </tbody>\n",
       "</table>\n",
       "</div>"
      ],
      "text/plain": [
       "   VAR_ROUTE VAR_IDENT  VAR_DIREC               VAR_DESCR  \\\n",
       "67       762        S1          1         CORWAL - ARTSTA   \n",
       "68       762        N1          0         ARTSTA - CORWAL   \n",
       "69       762        N1          0         ARTSTA - CORWAL   \n",
       "70       770        E1          2              END TO END   \n",
       "71       770        W1          3              END TO END   \n",
       "72       770        W2          3           P/I fr BROVEN   \n",
       "73       780        E1          2              END TO END   \n",
       "74       780        E2          2        HOLARG to VERPRO   \n",
       "75       780        W1          3              END TO END   \n",
       "76       780        W2          3        VERPRO to HOLARG   \n",
       "77       788        N1          0              END TO END   \n",
       "78       788        S1          1              END TO END   \n",
       "79       794        N1          0              END TO END   \n",
       "80       794        S1          1              END TO END   \n",
       "81       901        E1          2              END TO END   \n",
       "82       901        E2          2  CANOGA STATION LAYOVER   \n",
       "83       901        W1          3              END TO END   \n",
       "84       901        W2          3  CANOGA STATION LAYOVER   \n",
       "85       910        N1          0              END TO END   \n",
       "86       910        S1          1                    None   \n",
       "\n",
       "                                             geometry  \n",
       "67  LINESTRING (-118.15224 34.15035, -118.15175 34...  \n",
       "68  LINESTRING (-118.22290 33.87596, -118.22297 33...  \n",
       "69  LINESTRING (-118.18312 33.95191, -118.18323 33...  \n",
       "70  LINESTRING (-118.26539 34.03415, -118.26552 34...  \n",
       "71  LINESTRING (-118.04511 34.07247, -118.04435 34...  \n",
       "72  LINESTRING (-118.23219 34.05671, -118.23318 34...  \n",
       "73  LINESTRING (-118.36908 34.03528, -118.36896 34...  \n",
       "74  LINESTRING (-118.32536 34.10164, -118.32519 34...  \n",
       "75  LINESTRING (-118.12002 34.14598, -118.11985 34...  \n",
       "76  LINESTRING (-118.29312 34.10178, -118.29332 34...  \n",
       "77  LINESTRING (-118.43460 34.03512, -118.43536 34...  \n",
       "78  LINESTRING (-118.44842 34.24689, -118.44966 34...  \n",
       "79  LINESTRING (-118.26461 34.03322, -118.26431 34...  \n",
       "80  LINESTRING (-118.45078 34.29346, -118.45078 34...  \n",
       "81  LINESTRING (-118.59927 34.25207, -118.59927 34...  \n",
       "82  LINESTRING (-118.59682 34.19051, -118.59747 34...  \n",
       "83  LINESTRING (-118.37799 34.16852, -118.37744 34...  \n",
       "84  LINESTRING (-118.57169 34.18742, -118.57207 34...  \n",
       "85  LINESTRING (-118.28798 33.72493, -118.28798 33...  \n",
       "86  LINESTRING (-118.04513 34.07202, -118.04598 34...  "
      ]
     },
     "execution_count": 6,
     "metadata": {},
     "output_type": "execute_result"
    }
   ],
   "source": [
    "brt.tail(20)"
   ]
  },
  {
   "cell_type": "code",
   "execution_count": 7,
   "metadata": {},
   "outputs": [
    {
     "data": {
      "text/html": [
       "<div>\n",
       "<style scoped>\n",
       "    .dataframe tbody tr th:only-of-type {\n",
       "        vertical-align: middle;\n",
       "    }\n",
       "\n",
       "    .dataframe tbody tr th {\n",
       "        vertical-align: top;\n",
       "    }\n",
       "\n",
       "    .dataframe thead th {\n",
       "        text-align: right;\n",
       "    }\n",
       "</style>\n",
       "<table border=\"1\" class=\"dataframe\">\n",
       "  <thead>\n",
       "    <tr style=\"text-align: right;\">\n",
       "      <th></th>\n",
       "      <th>VAR_ROUTE</th>\n",
       "      <th>VAR_IDENT</th>\n",
       "      <th>VAR_DIREC</th>\n",
       "      <th>VAR_DESCR</th>\n",
       "      <th>geometry</th>\n",
       "    </tr>\n",
       "  </thead>\n",
       "  <tbody>\n",
       "    <tr>\n",
       "      <th>84</th>\n",
       "      <td>901</td>\n",
       "      <td>W2</td>\n",
       "      <td>3</td>\n",
       "      <td>CANOGA STATION LAYOVER</td>\n",
       "      <td>LINESTRING (-118.57169 34.18742, -118.57207 34...</td>\n",
       "    </tr>\n",
       "    <tr>\n",
       "      <th>78</th>\n",
       "      <td>788</td>\n",
       "      <td>S1</td>\n",
       "      <td>1</td>\n",
       "      <td>END TO END</td>\n",
       "      <td>LINESTRING (-118.44842 34.24689, -118.44966 34...</td>\n",
       "    </tr>\n",
       "    <tr>\n",
       "      <th>10</th>\n",
       "      <td>710</td>\n",
       "      <td>N1</td>\n",
       "      <td>0</td>\n",
       "      <td>END TO END</td>\n",
       "      <td>LINESTRING (-118.35698 33.87176, -118.35696 33...</td>\n",
       "    </tr>\n",
       "    <tr>\n",
       "      <th>4</th>\n",
       "      <td>704</td>\n",
       "      <td>W3</td>\n",
       "      <td>3</td>\n",
       "      <td>NEBSEP Shortline</td>\n",
       "      <td>LINESTRING (-118.38430 34.08485, -118.38471 34...</td>\n",
       "    </tr>\n",
       "    <tr>\n",
       "      <th>37</th>\n",
       "      <td>740</td>\n",
       "      <td>N2</td>\n",
       "      <td>0</td>\n",
       "      <td>HAWSTO</td>\n",
       "      <td>LINESTRING (-118.35259 33.93229, -118.35259 33...</td>\n",
       "    </tr>\n",
       "  </tbody>\n",
       "</table>\n",
       "</div>"
      ],
      "text/plain": [
       "   VAR_ROUTE VAR_IDENT  VAR_DIREC               VAR_DESCR  \\\n",
       "84       901        W2          3  CANOGA STATION LAYOVER   \n",
       "78       788        S1          1              END TO END   \n",
       "10       710        N1          0              END TO END   \n",
       "4        704        W3          3        NEBSEP Shortline   \n",
       "37       740        N2          0                  HAWSTO   \n",
       "\n",
       "                                             geometry  \n",
       "84  LINESTRING (-118.57169 34.18742, -118.57207 34...  \n",
       "78  LINESTRING (-118.44842 34.24689, -118.44966 34...  \n",
       "10  LINESTRING (-118.35698 33.87176, -118.35696 33...  \n",
       "4   LINESTRING (-118.38430 34.08485, -118.38471 34...  \n",
       "37  LINESTRING (-118.35259 33.93229, -118.35259 33...  "
      ]
     },
     "execution_count": 7,
     "metadata": {},
     "output_type": "execute_result"
    }
   ],
   "source": [
    "brt.sample(5)"
   ]
  },
  {
   "cell_type": "code",
   "execution_count": 8,
   "metadata": {},
   "outputs": [
    {
     "data": {
      "text/plain": [
       "VAR_ROUTE      object\n",
       "VAR_IDENT      object\n",
       "VAR_DIREC       int64\n",
       "VAR_DESCR      object\n",
       "geometry     geometry\n",
       "dtype: object"
      ]
     },
     "execution_count": 8,
     "metadata": {},
     "output_type": "execute_result"
    }
   ],
   "source": [
    "brt.dtypes"
   ]
  },
  {
   "cell_type": "code",
   "execution_count": 9,
   "metadata": {},
   "outputs": [
    {
     "name": "stdout",
     "output_type": "stream",
     "text": [
      "<class 'geopandas.geodataframe.GeoDataFrame'>\n",
      "RangeIndex: 87 entries, 0 to 86\n",
      "Data columns (total 5 columns):\n",
      " #   Column     Non-Null Count  Dtype   \n",
      "---  ------     --------------  -----   \n",
      " 0   VAR_ROUTE  87 non-null     object  \n",
      " 1   VAR_IDENT  87 non-null     object  \n",
      " 2   VAR_DIREC  87 non-null     int64   \n",
      " 3   VAR_DESCR  85 non-null     object  \n",
      " 4   geometry   87 non-null     geometry\n",
      "dtypes: geometry(1), int64(1), object(3)\n",
      "memory usage: 3.5+ KB\n"
     ]
    }
   ],
   "source": [
    "brt.info()"
   ]
  },
  {
   "cell_type": "code",
   "execution_count": 10,
   "metadata": {},
   "outputs": [
    {
     "data": {
      "text/plain": [
       "(87, 5)"
      ]
     },
     "execution_count": 10,
     "metadata": {},
     "output_type": "execute_result"
    }
   ],
   "source": [
    "brt.shape"
   ]
  },
  {
   "cell_type": "code",
   "execution_count": 11,
   "metadata": {},
   "outputs": [
    {
     "data": {
      "text/plain": [
       "['VAR_ROUTE', 'VAR_IDENT', 'VAR_DIREC', 'VAR_DESCR', 'geometry']"
      ]
     },
     "execution_count": 11,
     "metadata": {},
     "output_type": "execute_result"
    }
   ],
   "source": [
    "brt.columns.to_list()"
   ]
  },
  {
   "cell_type": "code",
   "execution_count": 17,
   "metadata": {},
   "outputs": [
    {
     "data": {
      "text/plain": [
       "0     704\n",
       "1     704\n",
       "2     704\n",
       "3     704\n",
       "4     704\n",
       "     ... \n",
       "82    901\n",
       "83    901\n",
       "84    901\n",
       "85    910\n",
       "86    910\n",
       "Name: VAR_ROUTE, Length: 87, dtype: object"
      ]
     },
     "execution_count": 17,
     "metadata": {},
     "output_type": "execute_result"
    }
   ],
   "source": [
    "brt['VAR_ROUTE']"
   ]
  },
  {
   "cell_type": "code",
   "execution_count": 12,
   "metadata": {},
   "outputs": [
    {
     "data": {
      "text/plain": [
       "0      END TO END - RAPID - TO DIV13O\n",
       "1                    NEBSEP Shortline\n",
       "2                  TRIPS START SEPSAN\n",
       "3     END TO END- RAPID - FROM DIV13O\n",
       "4                    NEBSEP Shortline\n",
       "                   ...               \n",
       "82             CANOGA STATION LAYOVER\n",
       "83                         END TO END\n",
       "84             CANOGA STATION LAYOVER\n",
       "85                         END TO END\n",
       "86                               None\n",
       "Name: VAR_DESCR, Length: 87, dtype: object"
      ]
     },
     "execution_count": 12,
     "metadata": {},
     "output_type": "execute_result"
    }
   ],
   "source": [
    "brt.VAR_DESCR"
   ]
  },
  {
   "cell_type": "code",
   "execution_count": 13,
   "metadata": {},
   "outputs": [
    {
     "data": {
      "text/plain": [
       "720    10\n",
       "745     7\n",
       "704     6\n",
       "728     5\n",
       "744     5\n",
       "780     4\n",
       "705     4\n",
       "734     4\n",
       "762     4\n",
       "733     4\n",
       "901     4\n",
       "754     4\n",
       "760     4\n",
       "740     3\n",
       "750     3\n",
       "710     3\n",
       "770     3\n",
       "910     2\n",
       "788     2\n",
       "751     2\n",
       "794     2\n",
       "757     2\n",
       "Name: VAR_ROUTE, dtype: int64"
      ]
     },
     "execution_count": 13,
     "metadata": {},
     "output_type": "execute_result"
    }
   ],
   "source": [
    "brt['VAR_ROUTE'].value_counts()"
   ]
  },
  {
   "cell_type": "code",
   "execution_count": 18,
   "metadata": {},
   "outputs": [
    {
     "data": {
      "text/plain": [
       "<matplotlib.axes._subplots.AxesSubplot at 0x7ff0c3c8beb0>"
      ]
     },
     "execution_count": 18,
     "metadata": {},
     "output_type": "execute_result"
    },
    {
     "data": {
      "image/png": "[encoded data removed]",
      "text/plain": [
       "<Figure size 432x288 with 1 Axes>"
      ]
     },
     "metadata": {
      "needs_background": "light"
     },
     "output_type": "display_data"
    }
   ],
   "source": [
    "brt['VAR_ROUTE'].value_counts().plot.bar()"
   ]
  },
  {
   "cell_type": "code",
   "execution_count": 22,
   "metadata": {},
   "outputs": [
    {
     "data": {
      "text/html": [
       "<div>\n",
       "<style scoped>\n",
       "    .dataframe tbody tr th:only-of-type {\n",
       "        vertical-align: middle;\n",
       "    }\n",
       "\n",
       "    .dataframe tbody tr th {\n",
       "        vertical-align: top;\n",
       "    }\n",
       "\n",
       "    .dataframe thead th {\n",
       "        text-align: right;\n",
       "    }\n",
       "</style>\n",
       "<table border=\"1\" class=\"dataframe\">\n",
       "  <thead>\n",
       "    <tr style=\"text-align: right;\">\n",
       "      <th></th>\n",
       "      <th>VAR_ROUTE</th>\n",
       "      <th>VAR_DESCR</th>\n",
       "      <th>geometry</th>\n",
       "    </tr>\n",
       "  </thead>\n",
       "  <tbody>\n",
       "    <tr>\n",
       "      <th>0</th>\n",
       "      <td>704</td>\n",
       "      <td>END TO END - RAPID - TO DIV13O</td>\n",
       "      <td>LINESTRING (-118.49997 34.01574, -118.50054 34...</td>\n",
       "    </tr>\n",
       "    <tr>\n",
       "      <th>1</th>\n",
       "      <td>704</td>\n",
       "      <td>NEBSEP Shortline</td>\n",
       "      <td>LINESTRING (-118.44327 34.04567, -118.44335 34...</td>\n",
       "    </tr>\n",
       "    <tr>\n",
       "      <th>2</th>\n",
       "      <td>704</td>\n",
       "      <td>TRIPS START SEPSAN</td>\n",
       "      <td>LINESTRING (-118.44356 34.04791, -118.44354 34...</td>\n",
       "    </tr>\n",
       "    <tr>\n",
       "      <th>3</th>\n",
       "      <td>704</td>\n",
       "      <td>END TO END- RAPID - FROM DIV13O</td>\n",
       "      <td>LINESTRING (-118.23190 34.05663, -118.23230 34...</td>\n",
       "    </tr>\n",
       "    <tr>\n",
       "      <th>4</th>\n",
       "      <td>704</td>\n",
       "      <td>NEBSEP Shortline</td>\n",
       "      <td>LINESTRING (-118.38430 34.08485, -118.38471 34...</td>\n",
       "    </tr>\n",
       "    <tr>\n",
       "      <th>...</th>\n",
       "      <td>...</td>\n",
       "      <td>...</td>\n",
       "      <td>...</td>\n",
       "    </tr>\n",
       "    <tr>\n",
       "      <th>82</th>\n",
       "      <td>901</td>\n",
       "      <td>CANOGA STATION LAYOVER</td>\n",
       "      <td>LINESTRING (-118.59682 34.19051, -118.59747 34...</td>\n",
       "    </tr>\n",
       "    <tr>\n",
       "      <th>83</th>\n",
       "      <td>901</td>\n",
       "      <td>END TO END</td>\n",
       "      <td>LINESTRING (-118.37799 34.16852, -118.37744 34...</td>\n",
       "    </tr>\n",
       "    <tr>\n",
       "      <th>84</th>\n",
       "      <td>901</td>\n",
       "      <td>CANOGA STATION LAYOVER</td>\n",
       "      <td>LINESTRING (-118.57169 34.18742, -118.57207 34...</td>\n",
       "    </tr>\n",
       "    <tr>\n",
       "      <th>85</th>\n",
       "      <td>910</td>\n",
       "      <td>END TO END</td>\n",
       "      <td>LINESTRING (-118.28798 33.72493, -118.28798 33...</td>\n",
       "    </tr>\n",
       "    <tr>\n",
       "      <th>86</th>\n",
       "      <td>910</td>\n",
       "      <td>None</td>\n",
       "      <td>LINESTRING (-118.04513 34.07202, -118.04598 34...</td>\n",
       "    </tr>\n",
       "  </tbody>\n",
       "</table>\n",
       "<p>87 rows × 3 columns</p>\n",
       "</div>"
      ],
      "text/plain": [
       "   VAR_ROUTE                        VAR_DESCR  \\\n",
       "0        704   END TO END - RAPID - TO DIV13O   \n",
       "1        704                 NEBSEP Shortline   \n",
       "2        704               TRIPS START SEPSAN   \n",
       "3        704  END TO END- RAPID - FROM DIV13O   \n",
       "4        704                 NEBSEP Shortline   \n",
       "..       ...                              ...   \n",
       "82       901           CANOGA STATION LAYOVER   \n",
       "83       901                       END TO END   \n",
       "84       901           CANOGA STATION LAYOVER   \n",
       "85       910                       END TO END   \n",
       "86       910                             None   \n",
       "\n",
       "                                             geometry  \n",
       "0   LINESTRING (-118.49997 34.01574, -118.50054 34...  \n",
       "1   LINESTRING (-118.44327 34.04567, -118.44335 34...  \n",
       "2   LINESTRING (-118.44356 34.04791, -118.44354 34...  \n",
       "3   LINESTRING (-118.23190 34.05663, -118.23230 34...  \n",
       "4   LINESTRING (-118.38430 34.08485, -118.38471 34...  \n",
       "..                                                ...  \n",
       "82  LINESTRING (-118.59682 34.19051, -118.59747 34...  \n",
       "83  LINESTRING (-118.37799 34.16852, -118.37744 34...  \n",
       "84  LINESTRING (-118.57169 34.18742, -118.57207 34...  \n",
       "85  LINESTRING (-118.28798 33.72493, -118.28798 33...  \n",
       "86  LINESTRING (-118.04513 34.07202, -118.04598 34...  \n",
       "\n",
       "[87 rows x 3 columns]"
      ]
     },
     "execution_count": 22,
     "metadata": {},
     "output_type": "execute_result"
    }
   ],
   "source": [
    "brt[['VAR_ROUTE','VAR_DESCR','geometry']]"
   ]
  },
  {
   "cell_type": "code",
   "execution_count": 31,
   "metadata": {},
   "outputs": [
    {
     "data": {
      "text/html": [
       "<div>\n",
       "<style scoped>\n",
       "    .dataframe tbody tr th:only-of-type {\n",
       "        vertical-align: middle;\n",
       "    }\n",
       "\n",
       "    .dataframe tbody tr th {\n",
       "        vertical-align: top;\n",
       "    }\n",
       "\n",
       "    .dataframe thead th {\n",
       "        text-align: right;\n",
       "    }\n",
       "</style>\n",
       "<table border=\"1\" class=\"dataframe\">\n",
       "  <thead>\n",
       "    <tr style=\"text-align: right;\">\n",
       "      <th></th>\n",
       "      <th>VAR_ROUTE</th>\n",
       "      <th>VAR_DESCR</th>\n",
       "      <th>geometry</th>\n",
       "    </tr>\n",
       "  </thead>\n",
       "  <tbody>\n",
       "    <tr>\n",
       "      <th>0</th>\n",
       "      <td>704</td>\n",
       "      <td>END TO END - RAPID - TO DIV13O</td>\n",
       "      <td>LINESTRING (-118.49997 34.01574, -118.50054 34...</td>\n",
       "    </tr>\n",
       "    <tr>\n",
       "      <th>1</th>\n",
       "      <td>704</td>\n",
       "      <td>NEBSEP Shortline</td>\n",
       "      <td>LINESTRING (-118.44327 34.04567, -118.44335 34...</td>\n",
       "    </tr>\n",
       "    <tr>\n",
       "      <th>2</th>\n",
       "      <td>704</td>\n",
       "      <td>TRIPS START SEPSAN</td>\n",
       "      <td>LINESTRING (-118.44356 34.04791, -118.44354 34...</td>\n",
       "    </tr>\n",
       "    <tr>\n",
       "      <th>3</th>\n",
       "      <td>704</td>\n",
       "      <td>END TO END- RAPID - FROM DIV13O</td>\n",
       "      <td>LINESTRING (-118.23190 34.05663, -118.23230 34...</td>\n",
       "    </tr>\n",
       "    <tr>\n",
       "      <th>4</th>\n",
       "      <td>704</td>\n",
       "      <td>NEBSEP Shortline</td>\n",
       "      <td>LINESTRING (-118.38430 34.08485, -118.38471 34...</td>\n",
       "    </tr>\n",
       "    <tr>\n",
       "      <th>...</th>\n",
       "      <td>...</td>\n",
       "      <td>...</td>\n",
       "      <td>...</td>\n",
       "    </tr>\n",
       "    <tr>\n",
       "      <th>82</th>\n",
       "      <td>901</td>\n",
       "      <td>CANOGA STATION LAYOVER</td>\n",
       "      <td>LINESTRING (-118.59682 34.19051, -118.59747 34...</td>\n",
       "    </tr>\n",
       "    <tr>\n",
       "      <th>83</th>\n",
       "      <td>901</td>\n",
       "      <td>END TO END</td>\n",
       "      <td>LINESTRING (-118.37799 34.16852, -118.37744 34...</td>\n",
       "    </tr>\n",
       "    <tr>\n",
       "      <th>84</th>\n",
       "      <td>901</td>\n",
       "      <td>CANOGA STATION LAYOVER</td>\n",
       "      <td>LINESTRING (-118.57169 34.18742, -118.57207 34...</td>\n",
       "    </tr>\n",
       "    <tr>\n",
       "      <th>85</th>\n",
       "      <td>910</td>\n",
       "      <td>END TO END</td>\n",
       "      <td>LINESTRING (-118.28798 33.72493, -118.28798 33...</td>\n",
       "    </tr>\n",
       "    <tr>\n",
       "      <th>86</th>\n",
       "      <td>910</td>\n",
       "      <td>None</td>\n",
       "      <td>LINESTRING (-118.04513 34.07202, -118.04598 34...</td>\n",
       "    </tr>\n",
       "  </tbody>\n",
       "</table>\n",
       "<p>87 rows × 3 columns</p>\n",
       "</div>"
      ],
      "text/plain": [
       "   VAR_ROUTE                        VAR_DESCR  \\\n",
       "0        704   END TO END - RAPID - TO DIV13O   \n",
       "1        704                 NEBSEP Shortline   \n",
       "2        704               TRIPS START SEPSAN   \n",
       "3        704  END TO END- RAPID - FROM DIV13O   \n",
       "4        704                 NEBSEP Shortline   \n",
       "..       ...                              ...   \n",
       "82       901           CANOGA STATION LAYOVER   \n",
       "83       901                       END TO END   \n",
       "84       901           CANOGA STATION LAYOVER   \n",
       "85       910                       END TO END   \n",
       "86       910                             None   \n",
       "\n",
       "                                             geometry  \n",
       "0   LINESTRING (-118.49997 34.01574, -118.50054 34...  \n",
       "1   LINESTRING (-118.44327 34.04567, -118.44335 34...  \n",
       "2   LINESTRING (-118.44356 34.04791, -118.44354 34...  \n",
       "3   LINESTRING (-118.23190 34.05663, -118.23230 34...  \n",
       "4   LINESTRING (-118.38430 34.08485, -118.38471 34...  \n",
       "..                                                ...  \n",
       "82  LINESTRING (-118.59682 34.19051, -118.59747 34...  \n",
       "83  LINESTRING (-118.37799 34.16852, -118.37744 34...  \n",
       "84  LINESTRING (-118.57169 34.18742, -118.57207 34...  \n",
       "85  LINESTRING (-118.28798 33.72493, -118.28798 33...  \n",
       "86  LINESTRING (-118.04513 34.07202, -118.04598 34...  \n",
       "\n",
       "[87 rows x 3 columns]"
      ]
     },
     "execution_count": 31,
     "metadata": {},
     "output_type": "execute_result"
    }
   ],
   "source": [
    "# list of desired column names\n",
    "desired_columns = ['VAR_ROUTE','VAR_DESCR','geometry']\n",
    "\n",
    "#subset based on desired columns \n",
    "brt[desired_columns]"
   ]
  },
  {
   "cell_type": "code",
   "execution_count": 32,
   "metadata": {},
   "outputs": [
    {
     "data": {
      "text/html": [
       "<div>\n",
       "<style scoped>\n",
       "    .dataframe tbody tr th:only-of-type {\n",
       "        vertical-align: middle;\n",
       "    }\n",
       "\n",
       "    .dataframe tbody tr th {\n",
       "        vertical-align: top;\n",
       "    }\n",
       "\n",
       "    .dataframe thead th {\n",
       "        text-align: right;\n",
       "    }\n",
       "</style>\n",
       "<table border=\"1\" class=\"dataframe\">\n",
       "  <thead>\n",
       "    <tr style=\"text-align: right;\">\n",
       "      <th></th>\n",
       "      <th>VAR_ROUTE</th>\n",
       "      <th>VAR_DESCR</th>\n",
       "      <th>geometry</th>\n",
       "    </tr>\n",
       "  </thead>\n",
       "  <tbody>\n",
       "    <tr>\n",
       "      <th>0</th>\n",
       "      <td>704</td>\n",
       "      <td>END TO END - RAPID - TO DIV13O</td>\n",
       "      <td>LINESTRING (-118.49997 34.01574, -118.50054 34...</td>\n",
       "    </tr>\n",
       "    <tr>\n",
       "      <th>1</th>\n",
       "      <td>704</td>\n",
       "      <td>NEBSEP Shortline</td>\n",
       "      <td>LINESTRING (-118.44327 34.04567, -118.44335 34...</td>\n",
       "    </tr>\n",
       "    <tr>\n",
       "      <th>2</th>\n",
       "      <td>704</td>\n",
       "      <td>TRIPS START SEPSAN</td>\n",
       "      <td>LINESTRING (-118.44356 34.04791, -118.44354 34...</td>\n",
       "    </tr>\n",
       "    <tr>\n",
       "      <th>3</th>\n",
       "      <td>704</td>\n",
       "      <td>END TO END- RAPID - FROM DIV13O</td>\n",
       "      <td>LINESTRING (-118.23190 34.05663, -118.23230 34...</td>\n",
       "    </tr>\n",
       "    <tr>\n",
       "      <th>4</th>\n",
       "      <td>704</td>\n",
       "      <td>NEBSEP Shortline</td>\n",
       "      <td>LINESTRING (-118.38430 34.08485, -118.38471 34...</td>\n",
       "    </tr>\n",
       "    <tr>\n",
       "      <th>...</th>\n",
       "      <td>...</td>\n",
       "      <td>...</td>\n",
       "      <td>...</td>\n",
       "    </tr>\n",
       "    <tr>\n",
       "      <th>82</th>\n",
       "      <td>901</td>\n",
       "      <td>CANOGA STATION LAYOVER</td>\n",
       "      <td>LINESTRING (-118.59682 34.19051, -118.59747 34...</td>\n",
       "    </tr>\n",
       "    <tr>\n",
       "      <th>83</th>\n",
       "      <td>901</td>\n",
       "      <td>END TO END</td>\n",
       "      <td>LINESTRING (-118.37799 34.16852, -118.37744 34...</td>\n",
       "    </tr>\n",
       "    <tr>\n",
       "      <th>84</th>\n",
       "      <td>901</td>\n",
       "      <td>CANOGA STATION LAYOVER</td>\n",
       "      <td>LINESTRING (-118.57169 34.18742, -118.57207 34...</td>\n",
       "    </tr>\n",
       "    <tr>\n",
       "      <th>85</th>\n",
       "      <td>910</td>\n",
       "      <td>END TO END</td>\n",
       "      <td>LINESTRING (-118.28798 33.72493, -118.28798 33...</td>\n",
       "    </tr>\n",
       "    <tr>\n",
       "      <th>86</th>\n",
       "      <td>910</td>\n",
       "      <td>None</td>\n",
       "      <td>LINESTRING (-118.04513 34.07202, -118.04598 34...</td>\n",
       "    </tr>\n",
       "  </tbody>\n",
       "</table>\n",
       "<p>87 rows × 3 columns</p>\n",
       "</div>"
      ],
      "text/plain": [
       "   VAR_ROUTE                        VAR_DESCR  \\\n",
       "0        704   END TO END - RAPID - TO DIV13O   \n",
       "1        704                 NEBSEP Shortline   \n",
       "2        704               TRIPS START SEPSAN   \n",
       "3        704  END TO END- RAPID - FROM DIV13O   \n",
       "4        704                 NEBSEP Shortline   \n",
       "..       ...                              ...   \n",
       "82       901           CANOGA STATION LAYOVER   \n",
       "83       901                       END TO END   \n",
       "84       901           CANOGA STATION LAYOVER   \n",
       "85       910                       END TO END   \n",
       "86       910                             None   \n",
       "\n",
       "                                             geometry  \n",
       "0   LINESTRING (-118.49997 34.01574, -118.50054 34...  \n",
       "1   LINESTRING (-118.44327 34.04567, -118.44335 34...  \n",
       "2   LINESTRING (-118.44356 34.04791, -118.44354 34...  \n",
       "3   LINESTRING (-118.23190 34.05663, -118.23230 34...  \n",
       "4   LINESTRING (-118.38430 34.08485, -118.38471 34...  \n",
       "..                                                ...  \n",
       "82  LINESTRING (-118.59682 34.19051, -118.59747 34...  \n",
       "83  LINESTRING (-118.37799 34.16852, -118.37744 34...  \n",
       "84  LINESTRING (-118.57169 34.18742, -118.57207 34...  \n",
       "85  LINESTRING (-118.28798 33.72493, -118.28798 33...  \n",
       "86  LINESTRING (-118.04513 34.07202, -118.04598 34...  \n",
       "\n",
       "[87 rows x 3 columns]"
      ]
     },
     "execution_count": 32,
     "metadata": {},
     "output_type": "execute_result"
    }
   ],
   "source": [
    "brt_trimmed = brt[desired_columns]\n",
    "brt_trimmed"
   ]
  },
  {
   "cell_type": "code",
   "execution_count": 33,
   "metadata": {},
   "outputs": [
    {
     "data": {
      "text/html": [
       "<div>\n",
       "<style scoped>\n",
       "    .dataframe tbody tr th:only-of-type {\n",
       "        vertical-align: middle;\n",
       "    }\n",
       "\n",
       "    .dataframe tbody tr th {\n",
       "        vertical-align: top;\n",
       "    }\n",
       "\n",
       "    .dataframe thead th {\n",
       "        text-align: right;\n",
       "    }\n",
       "</style>\n",
       "<table border=\"1\" class=\"dataframe\">\n",
       "  <thead>\n",
       "    <tr style=\"text-align: right;\">\n",
       "      <th></th>\n",
       "      <th>VAR_ROUTE</th>\n",
       "      <th>VAR_DESCR</th>\n",
       "      <th>geometry</th>\n",
       "    </tr>\n",
       "  </thead>\n",
       "  <tbody>\n",
       "    <tr>\n",
       "      <th>85</th>\n",
       "      <td>910</td>\n",
       "      <td>END TO END</td>\n",
       "      <td>LINESTRING (-118.28798 33.72493, -118.28798 33...</td>\n",
       "    </tr>\n",
       "    <tr>\n",
       "      <th>86</th>\n",
       "      <td>910</td>\n",
       "      <td>None</td>\n",
       "      <td>LINESTRING (-118.04513 34.07202, -118.04598 34...</td>\n",
       "    </tr>\n",
       "  </tbody>\n",
       "</table>\n",
       "</div>"
      ],
      "text/plain": [
       "   VAR_ROUTE   VAR_DESCR                                           geometry\n",
       "85       910  END TO END  LINESTRING (-118.28798 33.72493, -118.28798 33...\n",
       "86       910        None  LINESTRING (-118.04513 34.07202, -118.04598 34..."
      ]
     },
     "execution_count": 33,
     "metadata": {},
     "output_type": "execute_result"
    }
   ],
   "source": [
    "brt_trimmed[brt.VAR_ROUTE == '910']"
   ]
  },
  {
   "cell_type": "code",
   "execution_count": 34,
   "metadata": {},
   "outputs": [
    {
     "data": {
      "text/plain": [
       "<bound method GeoDataFrame.plot of    VAR_ROUTE                        VAR_DESCR  \\\n",
       "0        704   END TO END - RAPID - TO DIV13O   \n",
       "1        704                 NEBSEP Shortline   \n",
       "2        704               TRIPS START SEPSAN   \n",
       "3        704  END TO END- RAPID - FROM DIV13O   \n",
       "4        704                 NEBSEP Shortline   \n",
       "..       ...                              ...   \n",
       "82       901           CANOGA STATION LAYOVER   \n",
       "83       901                       END TO END   \n",
       "84       901           CANOGA STATION LAYOVER   \n",
       "85       910                       END TO END   \n",
       "86       910                             None   \n",
       "\n",
       "                                             geometry  \n",
       "0   LINESTRING (-118.49997 34.01574, -118.50054 34...  \n",
       "1   LINESTRING (-118.44327 34.04567, -118.44335 34...  \n",
       "2   LINESTRING (-118.44356 34.04791, -118.44354 34...  \n",
       "3   LINESTRING (-118.23190 34.05663, -118.23230 34...  \n",
       "4   LINESTRING (-118.38430 34.08485, -118.38471 34...  \n",
       "..                                                ...  \n",
       "82  LINESTRING (-118.59682 34.19051, -118.59747 34...  \n",
       "83  LINESTRING (-118.37799 34.16852, -118.37744 34...  \n",
       "84  LINESTRING (-118.57169 34.18742, -118.57207 34...  \n",
       "85  LINESTRING (-118.28798 33.72493, -118.28798 33...  \n",
       "86  LINESTRING (-118.04513 34.07202, -118.04598 34...  \n",
       "\n",
       "[87 rows x 3 columns]>"
      ]
     },
     "execution_count": 34,
     "metadata": {},
     "output_type": "execute_result"
    }
   ],
   "source": [
    "brt_trimmed.plot"
   ]
  },
  {
   "cell_type": "raw",
   "metadata": {},
   "source": [
    "brt_trimmed.geometry"
   ]
  },
  {
   "cell_type": "code",
   "execution_count": 35,
   "metadata": {},
   "outputs": [
    {
     "data": {
      "text/html": [
       "<div>\n",
       "<style scoped>\n",
       "    .dataframe tbody tr th:only-of-type {\n",
       "        vertical-align: middle;\n",
       "    }\n",
       "\n",
       "    .dataframe tbody tr th {\n",
       "        vertical-align: top;\n",
       "    }\n",
       "\n",
       "    .dataframe thead th {\n",
       "        text-align: right;\n",
       "    }\n",
       "</style>\n",
       "<table border=\"1\" class=\"dataframe\">\n",
       "  <thead>\n",
       "    <tr style=\"text-align: right;\">\n",
       "      <th></th>\n",
       "      <th>VAR_ROUTE</th>\n",
       "      <th>VAR_DESCR</th>\n",
       "      <th>geometry</th>\n",
       "    </tr>\n",
       "  </thead>\n",
       "  <tbody>\n",
       "    <tr>\n",
       "      <th>0</th>\n",
       "      <td>704</td>\n",
       "      <td>END TO END - RAPID - TO DIV13O</td>\n",
       "      <td>LINESTRING (-118.49997 34.01574, -118.50054 34...</td>\n",
       "    </tr>\n",
       "    <tr>\n",
       "      <th>1</th>\n",
       "      <td>704</td>\n",
       "      <td>NEBSEP Shortline</td>\n",
       "      <td>LINESTRING (-118.44327 34.04567, -118.44335 34...</td>\n",
       "    </tr>\n",
       "    <tr>\n",
       "      <th>2</th>\n",
       "      <td>704</td>\n",
       "      <td>TRIPS START SEPSAN</td>\n",
       "      <td>LINESTRING (-118.44356 34.04791, -118.44354 34...</td>\n",
       "    </tr>\n",
       "    <tr>\n",
       "      <th>3</th>\n",
       "      <td>704</td>\n",
       "      <td>END TO END- RAPID - FROM DIV13O</td>\n",
       "      <td>LINESTRING (-118.23190 34.05663, -118.23230 34...</td>\n",
       "    </tr>\n",
       "    <tr>\n",
       "      <th>4</th>\n",
       "      <td>704</td>\n",
       "      <td>NEBSEP Shortline</td>\n",
       "      <td>LINESTRING (-118.38430 34.08485, -118.38471 34...</td>\n",
       "    </tr>\n",
       "  </tbody>\n",
       "</table>\n",
       "</div>"
      ],
      "text/plain": [
       "  VAR_ROUTE                        VAR_DESCR  \\\n",
       "0       704   END TO END - RAPID - TO DIV13O   \n",
       "1       704                 NEBSEP Shortline   \n",
       "2       704               TRIPS START SEPSAN   \n",
       "3       704  END TO END- RAPID - FROM DIV13O   \n",
       "4       704                 NEBSEP Shortline   \n",
       "\n",
       "                                            geometry  \n",
       "0  LINESTRING (-118.49997 34.01574, -118.50054 34...  \n",
       "1  LINESTRING (-118.44327 34.04567, -118.44335 34...  \n",
       "2  LINESTRING (-118.44356 34.04791, -118.44354 34...  \n",
       "3  LINESTRING (-118.23190 34.05663, -118.23230 34...  \n",
       "4  LINESTRING (-118.38430 34.08485, -118.38471 34...  "
      ]
     },
     "execution_count": 35,
     "metadata": {},
     "output_type": "execute_result"
    }
   ],
   "source": [
    "brt_trimmed.head()"
   ]
  },
  {
   "cell_type": "code",
   "execution_count": 36,
   "metadata": {},
   "outputs": [
    {
     "data": {
      "text/plain": [
       "<matplotlib.axes._subplots.AxesSubplot at 0x7ff0c3c01d00>"
      ]
     },
     "execution_count": 36,
     "metadata": {},
     "output_type": "execute_result"
    },
    {
     "data": {
      "image/png": "[encoded data removed]",
      "text/plain": [
       "<Figure size 432x288 with 1 Axes>"
      ]
     },
     "metadata": {
      "needs_background": "light"
     },
     "output_type": "display_data"
    }
   ],
   "source": [
    "brt_trimmed.plot()"
   ]
  },
  {
   "cell_type": "code",
   "execution_count": 38,
   "metadata": {},
   "outputs": [
    {
     "data": {
      "text/plain": [
       "0     LINESTRING (-118.49997 34.01574, -118.50054 34...\n",
       "1     LINESTRING (-118.44327 34.04567, -118.44335 34...\n",
       "2     LINESTRING (-118.44356 34.04791, -118.44354 34...\n",
       "3     LINESTRING (-118.23190 34.05663, -118.23230 34...\n",
       "4     LINESTRING (-118.38430 34.08485, -118.38471 34...\n",
       "                            ...                        \n",
       "82    LINESTRING (-118.59682 34.19051, -118.59747 34...\n",
       "83    LINESTRING (-118.37799 34.16852, -118.37744 34...\n",
       "84    LINESTRING (-118.57169 34.18742, -118.57207 34...\n",
       "85    LINESTRING (-118.28798 33.72493, -118.28798 33...\n",
       "86    LINESTRING (-118.04513 34.07202, -118.04598 34...\n",
       "Name: geometry, Length: 87, dtype: geometry"
      ]
     },
     "execution_count": 38,
     "metadata": {},
     "output_type": "execute_result"
    }
   ],
   "source": [
    "brt_trimmed.geometry"
   ]
  },
  {
   "cell_type": "code",
   "execution_count": 43,
   "metadata": {},
   "outputs": [
    {
     "data": {
      "text/html": [
       "<div>\n",
       "<style scoped>\n",
       "    .dataframe tbody tr th:only-of-type {\n",
       "        vertical-align: middle;\n",
       "    }\n",
       "\n",
       "    .dataframe tbody tr th {\n",
       "        vertical-align: top;\n",
       "    }\n",
       "\n",
       "    .dataframe thead th {\n",
       "        text-align: right;\n",
       "    }\n",
       "</style>\n",
       "<table border=\"1\" class=\"dataframe\">\n",
       "  <thead>\n",
       "    <tr style=\"text-align: right;\">\n",
       "      <th></th>\n",
       "      <th>VAR_ROUTE</th>\n",
       "      <th>VAR_DESCR</th>\n",
       "      <th>geometry</th>\n",
       "    </tr>\n",
       "  </thead>\n",
       "  <tbody>\n",
       "    <tr>\n",
       "      <th>0</th>\n",
       "      <td>704</td>\n",
       "      <td>END TO END - RAPID - TO DIV13O</td>\n",
       "      <td>LINESTRING (-118.49997 34.01574, -118.50054 34...</td>\n",
       "    </tr>\n",
       "    <tr>\n",
       "      <th>1</th>\n",
       "      <td>704</td>\n",
       "      <td>NEBSEP Shortline</td>\n",
       "      <td>LINESTRING (-118.44327 34.04567, -118.44335 34...</td>\n",
       "    </tr>\n",
       "    <tr>\n",
       "      <th>2</th>\n",
       "      <td>704</td>\n",
       "      <td>TRIPS START SEPSAN</td>\n",
       "      <td>LINESTRING (-118.44356 34.04791, -118.44354 34...</td>\n",
       "    </tr>\n",
       "    <tr>\n",
       "      <th>3</th>\n",
       "      <td>704</td>\n",
       "      <td>END TO END- RAPID - FROM DIV13O</td>\n",
       "      <td>LINESTRING (-118.23190 34.05663, -118.23230 34...</td>\n",
       "    </tr>\n",
       "    <tr>\n",
       "      <th>4</th>\n",
       "      <td>704</td>\n",
       "      <td>NEBSEP Shortline</td>\n",
       "      <td>LINESTRING (-118.38430 34.08485, -118.38471 34...</td>\n",
       "    </tr>\n",
       "  </tbody>\n",
       "</table>\n",
       "</div>"
      ],
      "text/plain": [
       "  VAR_ROUTE                        VAR_DESCR  \\\n",
       "0       704   END TO END - RAPID - TO DIV13O   \n",
       "1       704                 NEBSEP Shortline   \n",
       "2       704               TRIPS START SEPSAN   \n",
       "3       704  END TO END- RAPID - FROM DIV13O   \n",
       "4       704                 NEBSEP Shortline   \n",
       "\n",
       "                                            geometry  \n",
       "0  LINESTRING (-118.49997 34.01574, -118.50054 34...  \n",
       "1  LINESTRING (-118.44327 34.04567, -118.44335 34...  \n",
       "2  LINESTRING (-118.44356 34.04791, -118.44354 34...  \n",
       "3  LINESTRING (-118.23190 34.05663, -118.23230 34...  \n",
       "4  LINESTRING (-118.38430 34.08485, -118.38471 34...  "
      ]
     },
     "execution_count": 43,
     "metadata": {},
     "output_type": "execute_result"
    }
   ],
   "source": [
    "brt_trimmed.head()"
   ]
  },
  {
   "cell_type": "code",
   "execution_count": 45,
   "metadata": {},
   "outputs": [
    {
     "data": {
      "text/plain": [
       "<Geographic 2D CRS: EPSG:4326>\n",
       "Name: WGS 84\n",
       "Axis Info [ellipsoidal]:\n",
       "- Lat[north]: Geodetic latitude (degree)\n",
       "- Lon[east]: Geodetic longitude (degree)\n",
       "Area of Use:\n",
       "- name: World\n",
       "- bounds: (-180.0, -90.0, 180.0, 90.0)\n",
       "Datum: World Geodetic System 1984\n",
       "- Ellipsoid: WGS 84\n",
       "- Prime Meridian: Greenwich"
      ]
     },
     "execution_count": 45,
     "metadata": {},
     "output_type": "execute_result"
    }
   ],
   "source": [
    "brt_trimmed.crs"
   ]
  },
  {
   "cell_type": "code",
   "execution_count": 48,
   "metadata": {},
   "outputs": [],
   "source": [
    "brt_gcs = brt_trimmed.to_crs (\"EPSG:4326\")"
   ]
  },
  {
   "cell_type": "code",
   "execution_count": 49,
   "metadata": {},
   "outputs": [
    {
     "name": "stdout",
     "output_type": "stream",
     "text": [
      "704\n",
      "704\n",
      "704\n",
      "704\n",
      "704\n",
      "704\n",
      "705\n",
      "705\n",
      "705\n",
      "705\n",
      "710\n",
      "710\n",
      "710\n",
      "720\n",
      "720\n",
      "720\n",
      "720\n",
      "720\n",
      "720\n",
      "720\n",
      "720\n",
      "720\n",
      "720\n",
      "728\n",
      "728\n",
      "728\n",
      "728\n",
      "728\n",
      "733\n",
      "733\n",
      "733\n",
      "733\n",
      "734\n",
      "734\n",
      "734\n",
      "734\n",
      "740\n",
      "740\n",
      "740\n",
      "744\n",
      "744\n",
      "744\n",
      "744\n",
      "744\n",
      "745\n",
      "745\n",
      "745\n",
      "745\n",
      "745\n",
      "745\n",
      "745\n",
      "750\n",
      "750\n",
      "750\n",
      "751\n",
      "751\n",
      "754\n",
      "754\n",
      "754\n",
      "754\n",
      "757\n",
      "757\n",
      "760\n",
      "760\n",
      "760\n",
      "760\n",
      "762\n",
      "762\n",
      "762\n",
      "762\n",
      "770\n",
      "770\n",
      "770\n",
      "780\n",
      "780\n",
      "780\n",
      "780\n",
      "788\n",
      "788\n",
      "794\n",
      "794\n",
      "901\n",
      "901\n",
      "901\n",
      "901\n",
      "910\n",
      "910\n"
     ]
    }
   ],
   "source": [
    "for index, row in brt_gcs.iterrows():\n",
    "    print(row.VAR_ROUTE)"
   ]
  },
  {
   "cell_type": "code",
   "execution_count": 52,
   "metadata": {},
   "outputs": [],
   "source": [
    "import folium"
   ]
  },
  {
   "cell_type": "code",
   "execution_count": 57,
   "metadata": {},
   "outputs": [
    {
     "name": "stdout",
     "output_type": "stream",
     "text": [
      "<class 'geopandas.geodataframe.GeoDataFrame'>\n",
      "RangeIndex: 87 entries, 0 to 86\n",
      "Data columns (total 5 columns):\n",
      " #   Column     Non-Null Count  Dtype   \n",
      "---  ------     --------------  -----   \n",
      " 0   VAR_ROUTE  87 non-null     object  \n",
      " 1   VAR_IDENT  87 non-null     object  \n",
      " 2   VAR_DIREC  87 non-null     int64   \n",
      " 3   VAR_DESCR  85 non-null     object  \n",
      " 4   geometry   87 non-null     geometry\n",
      "dtypes: geometry(1), int64(1), object(3)\n",
      "memory usage: 3.5+ KB\n"
     ]
    }
   ],
   "source": [
    "brt.info()"
   ]
  },
  {
   "cell_type": "code",
   "execution_count": 60,
   "metadata": {},
   "outputs": [
    {
     "data": {
      "text/plain": [
       "(87, 5)"
      ]
     },
     "execution_count": 60,
     "metadata": {},
     "output_type": "execute_result"
    }
   ],
   "source": [
    "brt.shape"
   ]
  },
  {
   "cell_type": "code",
   "execution_count": null,
   "metadata": {},
   "outputs": [],
   "source": []
  }
 ],
 "metadata": {
  "kernelspec": {
   "display_name": "Python 3",
   "language": "python",
   "name": "python3"
  },
  "language_info": {
   "codemirror_mode": {
    "name": "ipython",
    "version": 3
   },
   "file_extension": ".py",
   "mimetype": "text/x-python",
   "name": "python",
   "nbconvert_exporter": "python",
   "pygments_lexer": "ipython3",
   "version": "3.8.5"
  },
  "toc": {
   "base_numbering": 1,
   "nav_menu": {},
   "number_sections": true,
   "sideBar": true,
   "skip_h1_title": false,
   "title_cell": "Table of Contents",
   "title_sidebar": "Contents",
   "toc_cell": false,
   "toc_position": {},
   "toc_section_display": true,
   "toc_window_display": false
  }
 },
 "nbformat": 4,
 "nbformat_minor": 4
}
